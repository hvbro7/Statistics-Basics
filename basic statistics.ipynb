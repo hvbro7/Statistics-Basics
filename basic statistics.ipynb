{
 "cells": [
  {
   "cell_type": "code",
   "execution_count": 1,
   "id": "f1511603",
   "metadata": {},
   "outputs": [
    {
     "data": {
      "text/plain": [
       "'\"  ANS :-  1. Types of Data\\nData is broadly categorized into qualitative and quantitative types.\\n\\nA. Qualitative Data (Categorical)\\nDescribes qualities or characteristics.\\n\\nCannot be measured with numbers but can be categorized.\\n\\nOften represented by names, labels, or categories.\\n\\nExamples:\\n\\nEye color (blue, green, brown)\\n\\nGender (male, female, non-binary)\\n\\nB. Quantitative Data (Numerical)\\nDescribes quantities or amounts.\\n\\nCan be measured and expressed numerically.\\n\\nCan be further divided into discrete and continuous data.\\n\\nExamples:\\n\\nAge (25, 30, 40)\\n\\nNumber of students in a class (23, 30)\\n\\n1. Nominal Scale :-\\nThe nominal scale is used for categorical data where values represent labels or names. There is no inherent order or ranking among the categories.\\n\\nCharacteristics:\\n\\nQualitative data\\n\\nNo numerical meaning\\n\\nCannot perform arithmetic operations\\n\\nCan only count frequencies\\n\\nExamples:\\n\\nBlood types (A, B, AB, O)\\n\\nTypes of fruit (apple, banana, mango)\\n\\n2. Ordinal Scale :-\\nThe ordinal scale involves categorical data that has a meaningful order or rank, but the intervals between the values are not uniform or known.\\n\\nCharacteristics:\\n\\nQualitative or ranked data\\n\\nOrder matters\\n\\nCannot measure exact differences between ranks\\n\\nLimited mathematical operations (like median or mode)\\n\\nExamples:\\n\\nCustomer satisfaction ratings (satisfied, neutral, dissatisfied)\\n\\nEducation level (high school, bachelor\\'s, master\\'s, PhD)\\n\\n3. Interval Scale:-\\nThe interval scale represents quantitative data with equal intervals between values, but no true zero point (i.e., zero does not mean \"nothing\").\\n\\nCharacteristics:\\n\\nQuantitative data\\n\\nOrdered with equal spacing\\n\\nCan add and subtract values\\n\\nExamples:\\n\\nTemperature in Celsius or Fahrenheit\\n\\nCalendar years (e.g., 1990, 2000, 2010)\\n\\n4. Ratio Scale:-\\nThe ratio scale is the most informative scale. It includes all the properties of the interval scale, plus a true zero, allowing for meaningful comparisons using multiplication and division.\\n\\nCharacteristics:\\n\\nQuantitative data\\n\\nOrdered with equal spacing\\n\\nTrue zero exists\\n\\nSupports all mathematical operations\\n\\nExamples:\\n\\nWeight (0 kg = no weight)\\n\\nHeight\\n\\nAge\\n\\nIncome  '"
      ]
     },
     "execution_count": 1,
     "metadata": {},
     "output_type": "execute_result"
    }
   ],
   "source": [
    "#1. Explain the different types of data (qualitative and quantitative) and provide examples of each. Discuss nominal, ordinal, interval, and ratio scales.\n",
    "\"\"\"\"  ANS :-  1. Types of Data\n",
    "Data is broadly categorized into qualitative and quantitative types.\n",
    "\n",
    "A. Qualitative Data (Categorical)\n",
    "Describes qualities or characteristics.\n",
    "\n",
    "Cannot be measured with numbers but can be categorized.\n",
    "\n",
    "Often represented by names, labels, or categories.\n",
    "\n",
    "Examples:\n",
    "\n",
    "Eye color (blue, green, brown)\n",
    "\n",
    "Gender (male, female, non-binary)\n",
    "\n",
    "B. Quantitative Data (Numerical)\n",
    "Describes quantities or amounts.\n",
    "\n",
    "Can be measured and expressed numerically.\n",
    "\n",
    "Can be further divided into discrete and continuous data.\n",
    "\n",
    "Examples:\n",
    "\n",
    "Age (25, 30, 40)\n",
    "\n",
    "Number of students in a class (23, 30)\n",
    "\n",
    "1. Nominal Scale :-\n",
    "The nominal scale is used for categorical data where values represent labels or names. There is no inherent order or ranking among the categories.\n",
    "\n",
    "Characteristics:\n",
    "\n",
    "Qualitative data\n",
    "\n",
    "No numerical meaning\n",
    "\n",
    "Cannot perform arithmetic operations\n",
    "\n",
    "Can only count frequencies\n",
    "\n",
    "Examples:\n",
    "\n",
    "Blood types (A, B, AB, O)\n",
    "\n",
    "Types of fruit (apple, banana, mango)\n",
    "\n",
    "2. Ordinal Scale :-\n",
    "The ordinal scale involves categorical data that has a meaningful order or rank, but the intervals between the values are not uniform or known.\n",
    "\n",
    "Characteristics:\n",
    "\n",
    "Qualitative or ranked data\n",
    "\n",
    "Order matters\n",
    "\n",
    "Cannot measure exact differences between ranks\n",
    "\n",
    "Limited mathematical operations (like median or mode)\n",
    "\n",
    "Examples:\n",
    "\n",
    "Customer satisfaction ratings (satisfied, neutral, dissatisfied)\n",
    "\n",
    "Education level (high school, bachelor's, master's, PhD)\n",
    "\n",
    "3. Interval Scale:-\n",
    "The interval scale represents quantitative data with equal intervals between values, but no true zero point (i.e., zero does not mean \"nothing\").\n",
    "\n",
    "Characteristics:\n",
    "\n",
    "Quantitative data\n",
    "\n",
    "Ordered with equal spacing\n",
    "\n",
    "Can add and subtract values\n",
    "\n",
    "Examples:\n",
    "\n",
    "Temperature in Celsius or Fahrenheit\n",
    "\n",
    "Calendar years (e.g., 1990, 2000, 2010)\n",
    "\n",
    "4. Ratio Scale:-\n",
    "The ratio scale is the most informative scale. It includes all the properties of the interval scale, plus a true zero, allowing for meaningful comparisons using multiplication and division.\n",
    "\n",
    "Characteristics:\n",
    "\n",
    "Quantitative data\n",
    "\n",
    "Ordered with equal spacing\n",
    "\n",
    "True zero exists\n",
    "\n",
    "Supports all mathematical operations\n",
    "\n",
    "Examples:\n",
    "\n",
    "Weight (0 kg = no weight)\n",
    "\n",
    "Height\n",
    "\n",
    "Age\n",
    "\n",
    "Income  \"\"\""
   ]
  },
  {
   "cell_type": "code",
   "execution_count": 2,
   "id": "361f3b83",
   "metadata": {},
   "outputs": [
    {
     "data": {
      "text/plain": [
       "\"'ANS      \\nMeasures of central tendency are statistical tools used to identify the typical value in a data set. The three main measures are:\\n\\nMean\\n\\nMedian\\n\\nMode\\n\\n\\n 1. Mean (Average)\\n\\nThe mean is the sum of all values divided by the number of values.\\n\\n\\n\\nExample:\\nTest scores: 70, 80, 90\\n\\nMean=\\n70+80+90/ 3   = 240 /3 = 80\\nWhen to Use:\\n\\nData is numerical and evenly distributed\\n\\nNo extreme outliers\\n\\nWe need a value that considers all data points\\n\\nWhen Not Ideal:\\n\\nSkewed data (e.g., income with a few very high values)\\n\\nCategorical data\\n\\n\\n 2. Median\\nThe median is the middle value when the data is ordered. If there's an even number of values, it’s the average of the two middle values.\\n\\nExample:\\nSalaries: $30k, $35k, $40k, $45k, $1 million\\nOrdered: $30k, $35k, $40k, $45k, $1M\\nMedian = $40k\\n\\nWhen to Use:\\n\\nData is skewed\\n\\nif we want to reduce the impact of outliers\\n\\nif we want  a measure of central location that reflects the typical value\\n\\nWhen Not Ideal:\\n\\nWhen all values are equally important (since the median ignores extreme values)\\n\\n3. Mode\\nThe mode is the value that occurs most frequently in a data set.\\n\\nExample:\\nShoe sizes: 7, 7, 8, 9, 10, 7\\nMode = 7\\n\\nWhen to Use:\\n\\nData is categorical or discrete\\n\\nif we want to find the most common value\\n\\nThe data has repeated values\\n\\nWhen Not Ideal:\\n\\nAll values occur only once\\n\\nContinuous data with no repetition\\n\\n\""
      ]
     },
     "execution_count": 2,
     "metadata": {},
     "output_type": "execute_result"
    }
   ],
   "source": [
    "#2. What are the measures of central tendency, and when should you use each? Discuss the mean, median,and mode with examples and situations where each is appropriate.\n",
    "''''ANS      \n",
    "Measures of central tendency are statistical tools used to identify the typical value in a data set. The three main measures are:\n",
    "\n",
    "Mean\n",
    "\n",
    "Median\n",
    "\n",
    "Mode\n",
    "\n",
    "\n",
    " 1. Mean (Average)\n",
    "\n",
    "The mean is the sum of all values divided by the number of values.\n",
    "\n",
    "\n",
    " \n",
    "Example:\n",
    "Test scores: 70, 80, 90\n",
    "\n",
    "Mean=\n",
    "70+80+90/ 3   = 240 /3 = 80\n",
    "When to Use:\n",
    "\n",
    "Data is numerical and evenly distributed\n",
    "\n",
    "No extreme outliers\n",
    "\n",
    "We need a value that considers all data points\n",
    "\n",
    "When Not Ideal:\n",
    "\n",
    "Skewed data (e.g., income with a few very high values)\n",
    "\n",
    "Categorical data\n",
    "\n",
    "\n",
    " 2. Median\n",
    "The median is the middle value when the data is ordered. If there's an even number of values, it’s the average of the two middle values.\n",
    "\n",
    "Example:\n",
    "Salaries: $30k, $35k, $40k, $45k, $1 million\n",
    "Ordered: $30k, $35k, $40k, $45k, $1M\n",
    "Median = $40k\n",
    "\n",
    "When to Use:\n",
    "\n",
    "Data is skewed\n",
    "\n",
    "if we want to reduce the impact of outliers\n",
    "\n",
    "if we want  a measure of central location that reflects the typical value\n",
    "\n",
    "When Not Ideal:\n",
    "\n",
    "When all values are equally important (since the median ignores extreme values)\n",
    "\n",
    "3. Mode\n",
    "The mode is the value that occurs most frequently in a data set.\n",
    "\n",
    "Example:\n",
    "Shoe sizes: 7, 7, 8, 9, 10, 7\n",
    "Mode = 7\n",
    "\n",
    "When to Use:\n",
    "\n",
    "Data is categorical or discrete\n",
    "\n",
    "if we want to find the most common value\n",
    "\n",
    "The data has repeated values\n",
    "\n",
    "When Not Ideal:\n",
    "\n",
    "All values occur only once\n",
    "\n",
    "Continuous data with no repetition\n",
    "\n",
    "'''"
   ]
  },
  {
   "cell_type": "code",
   "execution_count": 3,
   "id": "c7b72050",
   "metadata": {},
   "outputs": [
    {
     "data": {
      "text/plain": [
       "\"' ANS\\n\\nDispersion refers to the extent to which a set of data values are spread out or scattered. It helps to understand how much the values\\nin a dataset differ from the average (mean) value.\\n\\n\\n1. Variance (σ² or s²)\\nDefinition: Variance is the average of the squared differences from the mean.\\n\\ninterpretation: A higher variance means that data points are more spread out from the mean, while a lower variance indicates \\nthey are more tightly clustered around the mean.\\n\\n2. Standard Deviation (σ or s)\\nDefinition: Standard deviation is the square root of the variance.\\n\\nInterpretation: Standard deviation is in the same units as the original data, making it more interpretable than variance.\\nIt tells us, on average, how far each data point lies from the mean.  \""
      ]
     },
     "execution_count": 3,
     "metadata": {},
     "output_type": "execute_result"
    }
   ],
   "source": [
    "#3. Explain the concept of dispersion. How do variance and standard deviation measure the spread of data?\n",
    "'''' ANS\n",
    "\n",
    "Dispersion refers to the extent to which a set of data values are spread out or scattered. It helps to understand how much the values\n",
    "in a dataset differ from the average (mean) value.\n",
    "\n",
    "\n",
    "1. Variance (σ² or s²)\n",
    "Definition: Variance is the average of the squared differences from the mean.\n",
    "\n",
    "interpretation: A higher variance means that data points are more spread out from the mean, while a lower variance indicates \n",
    "they are more tightly clustered around the mean.\n",
    "\n",
    "2. Standard Deviation (σ or s)\n",
    "Definition: Standard deviation is the square root of the variance.\n",
    "\n",
    "Interpretation: Standard deviation is in the same units as the original data, making it more interpretable than variance.\n",
    "It tells us, on average, how far each data point lies from the mean.  '''\n",
    "\n"
   ]
  },
  {
   "cell_type": "code",
   "execution_count": 4,
   "id": "55a77353",
   "metadata": {},
   "outputs": [
    {
     "data": {
      "text/plain": [
       "\" ANS \\n\\nA box plot (also called a box-and-whisker plot) is a graphical representation used to summarize the distribution of a dataset.\\nIt displays the dataset's central value, spread, and potential outliers in a compact form.\\n\\nWhat a Box Plot Tells You About Distribution\\nCentral Tendency: The median line within the box shows the center of the data.\\n\\nSpread (Dispersion): The width of the box (IQR) and the length of the whiskers indicate the variability in the dataset.\\n\\nSkewness:\\n\\nIf the median is closer to Q1, the distribution is right-skewed.\\n\\nIf the median is closer to Q3, it is left-skewed.\\n\\nOutliers: Clearly visible as dots or stars beyond the whiskers.\\n\\nSymmetry: A symmetrical box and equal whiskers suggest a roughly normal distribution. \""
      ]
     },
     "execution_count": 4,
     "metadata": {},
     "output_type": "execute_result"
    }
   ],
   "source": [
    "#4. What is a box plot, and what can it tell you about the distribution of data?\n",
    "''' ANS \n",
    "\n",
    "A box plot (also called a box-and-whisker plot) is a graphical representation used to summarize the distribution of a dataset.\n",
    "It displays the dataset's central value, spread, and potential outliers in a compact form.\n",
    "\n",
    "What a Box Plot Tells You About Distribution\n",
    "Central Tendency: The median line within the box shows the center of the data.\n",
    "\n",
    "Spread (Dispersion): The width of the box (IQR) and the length of the whiskers indicate the variability in the dataset.\n",
    "\n",
    "Skewness:\n",
    "\n",
    "If the median is closer to Q1, the distribution is right-skewed.\n",
    "\n",
    "If the median is closer to Q3, it is left-skewed.\n",
    "\n",
    "Outliers: Clearly visible as dots or stars beyond the whiskers.\n",
    "\n",
    "Symmetry: A symmetrical box and equal whiskers suggest a roughly normal distribution. '''             \n",
    "\n"
   ]
  },
  {
   "cell_type": "code",
   "execution_count": 6,
   "id": "720d3b14",
   "metadata": {},
   "outputs": [
    {
     "data": {
      "text/plain": [
       "\" ANS            \\n\\nRole of Random Sampling\\nRandom sampling is a fundamental technique in statistics used to draw a representative subset (sample) from a larger group (population).\\nIt ensures that every member of the population has an equal chance of being selected.\\n\\nRandom Sampling Matters in Inference\\nReduces Bias:\\n\\nRandom sampling minimizes selection bias, ensuring that the sample isn't skewed toward any particular group or characteristic within the population.\\n\\nImproves Representativeness:\\n\\nA well-randomized sample mirrors the characteristics of the entire population (e.g., age, income, behavior patterns), making it possible to generalize findings from the sample to the population.\\n\\nEnables Valid Statistical Inference:\\n\\nMost statistical methods (e.g., confidence intervals, hypothesis tests) assume that the data come from a random sample. Without this assumption, the results may be misleading.\\n\\nSupports Probability Theory:\\n\\nRandom sampling allows researchers to use the laws of probability to estimate how likely certain sample outcomes are and to measure uncertainty (like margins of error).   \""
      ]
     },
     "execution_count": 6,
     "metadata": {},
     "output_type": "execute_result"
    }
   ],
   "source": [
    "#5. Discuss the role of random sampling in making inferences about populations.\n",
    "''' ANS            \n",
    "\n",
    "Role of Random Sampling\n",
    "Random sampling is a fundamental technique in statistics used to draw a representative subset (sample) from a larger group (population).\n",
    "It ensures that every member of the population has an equal chance of being selected.\n",
    "\n",
    "Random Sampling Matters in Inference\n",
    "Reduces Bias:\n",
    "\n",
    "Random sampling minimizes selection bias, ensuring that the sample isn't skewed toward any particular group or characteristic within the population.\n",
    "\n",
    "Improves Representativeness:\n",
    "\n",
    "A well-randomized sample mirrors the characteristics of the entire population (e.g., age, income, behavior patterns), making it possible to generalize findings from the sample to the population.\n",
    "\n",
    "Enables Valid Statistical Inference:\n",
    "\n",
    "Most statistical methods (e.g., confidence intervals, hypothesis tests) assume that the data come from a random sample. Without this assumption, the results may be misleading.\n",
    "\n",
    "Supports Probability Theory:\n",
    "\n",
    "Random sampling allows researchers to use the laws of probability to estimate how likely certain sample outcomes are and to measure uncertainty (like margins of error).   '''"
   ]
  },
  {
   "cell_type": "code",
   "execution_count": 7,
   "id": "5c182a3f",
   "metadata": {},
   "outputs": [
    {
     "data": {
      "text/plain": [
       "' ANS          \\nSkewness is a statistical measure that describes the asymmetry of a data distribution around its mean. In a perfectly symmetrical distribution (like a normal distribution), the data is evenly distributed on both sides of the mean. Skewness tells us whether the data leans more to the left or right.\\n\\nTypes of Skewness\\n1. Symmetrical Distribution (Zero Skewness)\\n\\nThe mean = median = mode.\\n\\nThe data is evenly distributed.\\n\\nExample: Normal distribution.\\n\\n2. Positive Skewness (Right-Skewed)\\n\\nThe tail is longer on the right side.\\n\\nMean > median > mode.\\n\\nMost values are concentrated on the left.\\n\\nExample: Income distribution in many countries.\\n\\n3. Negative Skewness (Left-Skewed)\\n\\nThe tail is longer on the left side.\\n\\nMean < median < mode.\\n\\nMost values are concentrated on the right.\\n\\nExample: Age at retirement (where most people retire around a certain age but some retire earlier).\\n\\n\\nSkewness Affects Interpretation\\nMisleading Averages\\nInfluences Statistical Tests\\nData Transformation May Be Needed\\nReal-World Implications\\n'"
      ]
     },
     "execution_count": 7,
     "metadata": {},
     "output_type": "execute_result"
    }
   ],
   "source": [
    "#6. Explain the concept of skewness and its types. How does skewness affect the interpretation of data?\n",
    "''' ANS          \n",
    "Skewness is a statistical measure that describes the asymmetry of a data distribution around its mean. In a perfectly symmetrical distribution (like a normal distribution), the data is evenly distributed on both sides of the mean. Skewness tells us whether the data leans more to the left or right.\n",
    "\n",
    "Types of Skewness\n",
    "1. Symmetrical Distribution (Zero Skewness)\n",
    "\n",
    "The mean = median = mode.\n",
    "\n",
    "The data is evenly distributed.\n",
    "\n",
    "Example: Normal distribution.\n",
    "\n",
    "2. Positive Skewness (Right-Skewed)\n",
    "\n",
    "The tail is longer on the right side.\n",
    "\n",
    "Mean > median > mode.\n",
    "\n",
    "Most values are concentrated on the left.\n",
    "\n",
    "Example: Income distribution in many countries.\n",
    "\n",
    "3. Negative Skewness (Left-Skewed)\n",
    "\n",
    "The tail is longer on the left side.\n",
    "\n",
    "Mean < median < mode.\n",
    "\n",
    "Most values are concentrated on the right.\n",
    "\n",
    "Example: Age at retirement (where most people retire around a certain age but some retire earlier).\n",
    "\n",
    "\n",
    "Skewness Affects Interpretation\n",
    "Misleading Averages\n",
    "Influences Statistical Tests\n",
    "Data Transformation May Be Needed\n",
    "Real-World Implications\n",
    "'''\n"
   ]
  },
  {
   "cell_type": "code",
   "execution_count": 8,
   "id": "d2688257",
   "metadata": {},
   "outputs": [
    {
     "data": {
      "text/plain": [
       "'  ANS   \\n\\nThe Interquartile Range (IQR) is a measure of statistical dispersion, or how spread out the middle 50% of a dataset is.\\nIt is calculated as the difference between the third quartile (Q3) and the first quartile (Q1):\\n\\nIQR = Q3 - Q1\\nQ1 (First Quartile): The value below which 25% of the data fall.\\n\\nQ3 (Third Quartile): The value below which 75% of the data fall.\\n\\n\\nIQR Used to Detect Outliers?\\nOutliers are data points that fall significantly outside the expected range. The IQR method helps identify these by defining \"boundaries\" beyond which values are considered outliers:\\n\\nOutlier Detection Rules:\\nLower Bound:\\n     Q1 - 1.5 *IQR \\nUpper Bound: \\n     Q3 + 1.5 *IQR\\n'"
      ]
     },
     "execution_count": 8,
     "metadata": {},
     "output_type": "execute_result"
    }
   ],
   "source": [
    "#7. What is the interquartile range (IQR), and how is it used to detect outliers?\n",
    "'''  ANS   \n",
    "\n",
    "The Interquartile Range (IQR) is a measure of statistical dispersion, or how spread out the middle 50% of a dataset is.\n",
    "It is calculated as the difference between the third quartile (Q3) and the first quartile (Q1):\n",
    "\n",
    "IQR = Q3 - Q1\n",
    "Q1 (First Quartile): The value below which 25% of the data fall.\n",
    "\n",
    "Q3 (Third Quartile): The value below which 75% of the data fall.\n",
    "\n",
    "\n",
    "IQR Used to Detect Outliers?\n",
    "Outliers are data points that fall significantly outside the expected range. The IQR method helps identify these by defining \"boundaries\" beyond which values are considered outliers:\n",
    "\n",
    "Outlier Detection Rules:\n",
    "Lower Bound:\n",
    "     Q1 - 1.5 *IQR \n",
    "Upper Bound: \n",
    "     Q3 + 1.5 *IQR\n",
    "'''"
   ]
  },
  {
   "cell_type": "code",
   "execution_count": 9,
   "id": "8166fbca",
   "metadata": {},
   "outputs": [
    {
     "data": {
      "text/plain": [
       "'ANS\\nThe binomial distribution is a discrete probability distribution that describes the number of successes in a fixed number of independent trials\\nwhere each trial has only two possible outcomes: success or failure.\\n\\nConditions for Using the Binomial Distribution\\n 1. Fixed Number of Trials (n)\\n\\nThe experiment is repeated a specific number of times.\\n\\nExample: Flipping a coin 10 times.\\n\\n 2. Only Two Possible Outcomes\\n\\nEach trial results in one of two mutually exclusive outcomes:\\n\\nSuccess (e.g., heads)\\n\\nFailure (e.g., tails)\\n\\n3. Constant Probability of Success (p)\\n\\nThe probability of success remains the same for every trial.\\n\\nExample: The chance of rolling a 6 on a fair die is always 1/6.\\n\\n4. Independent Trials\\n\\nThe outcome of one trial does not affect the outcome of another.\\n\\nExample: Each coin toss is independent of the others.\\n\\n\\n\\n'"
      ]
     },
     "execution_count": 9,
     "metadata": {},
     "output_type": "execute_result"
    }
   ],
   "source": [
    "#8. Discuss the conditions under which the binomial distribution is used.\n",
    "'''ANS\n",
    "The binomial distribution is a discrete probability distribution that describes the number of successes in a fixed number of independent trials\n",
    "where each trial has only two possible outcomes: success or failure.\n",
    "\n",
    "Conditions for Using the Binomial Distribution\n",
    " 1. Fixed Number of Trials (n)\n",
    "\n",
    "The experiment is repeated a specific number of times.\n",
    "\n",
    "Example: Flipping a coin 10 times.\n",
    "\n",
    " 2. Only Two Possible Outcomes\n",
    "\n",
    "Each trial results in one of two mutually exclusive outcomes:\n",
    "\n",
    "Success (e.g., heads)\n",
    "\n",
    "Failure (e.g., tails)\n",
    "\n",
    "3. Constant Probability of Success (p)\n",
    "\n",
    "The probability of success remains the same for every trial.\n",
    "\n",
    "Example: The chance of rolling a 6 on a fair die is always 1/6.\n",
    "\n",
    "4. Independent Trials\n",
    "\n",
    "The outcome of one trial does not affect the outcome of another.\n",
    "\n",
    "Example: Each coin toss is independent of the others.\n",
    "\n",
    "\n",
    "\n",
    "'''"
   ]
  },
  {
   "cell_type": "code",
   "execution_count": 10,
   "id": "d009fb2b",
   "metadata": {},
   "outputs": [
    {
     "data": {
      "text/plain": [
       "'ANS       \\n\\nProperties of the Normal Distribution\\n1.Symmetry:\\n\\nThe curve is symmetric about the mean (μ).\\n\\nMean = Median = Mode.\\n\\n2.Bell Shape:\\n\\nThe highest point is at the mean.\\n\\nThe curve tapers off equally on both sides.\\n\\n3.Total Area = 1:\\n\\nThe total area under the curve represents the entire probability space, which is always 1.\\n\\n4. Defined by Two Parameters:\\n\\nMean (μ): Determines the center of the distribution.\\n\\nStandard Deviation (σ): Measures the spread; a larger σ results in a wider curve.\\n\\n5. Asymptotic:\\n\\nThe tails approach the horizontal axis but never touch it.\\n\\n\\nEmpirical Rule (68-95-99.7 Rule)\\nThe empirical rule is a shorthand to understand the spread of data in a normal distribution:\\n\\n68% of the data lies within 1 standard deviation of the mean\\n\\n(μ−σ,μ+σ)\\n95% of the data lies within 2 standard deviations\\n\\n(μ−2σ,μ+2σ)\\n99.7% of the data lies within 3 standard deviations\\n\\n(μ−3σ,μ+3σ)\\n'"
      ]
     },
     "execution_count": 10,
     "metadata": {},
     "output_type": "execute_result"
    }
   ],
   "source": [
    "#9. Explain the properties of the normal distribution and the empirical rule (68-95-99.7 rule).\n",
    "'''ANS       \n",
    "\n",
    "Properties of the Normal Distribution\n",
    "1.Symmetry:\n",
    "\n",
    "The curve is symmetric about the mean (μ).\n",
    "\n",
    "Mean = Median = Mode.\n",
    "\n",
    "2.Bell Shape:\n",
    "\n",
    "The highest point is at the mean.\n",
    "\n",
    "The curve tapers off equally on both sides.\n",
    "\n",
    "3.Total Area = 1:\n",
    "\n",
    "The total area under the curve represents the entire probability space, which is always 1.\n",
    "\n",
    "4. Defined by Two Parameters:\n",
    "\n",
    "Mean (μ): Determines the center of the distribution.\n",
    "\n",
    "Standard Deviation (σ): Measures the spread; a larger σ results in a wider curve.\n",
    "\n",
    "5. Asymptotic:\n",
    "\n",
    "The tails approach the horizontal axis but never touch it.\n",
    "\n",
    "\n",
    "Empirical Rule (68-95-99.7 Rule)\n",
    "The empirical rule is a shorthand to understand the spread of data in a normal distribution:\n",
    "\n",
    "68% of the data lies within 1 standard deviation of the mean\n",
    "\n",
    "(μ−σ,μ+σ)\n",
    "95% of the data lies within 2 standard deviations\n",
    "\n",
    "(μ−2σ,μ+2σ)\n",
    "99.7% of the data lies within 3 standard deviations\n",
    "\n",
    "(μ−3σ,μ+3σ)\n",
    "'''"
   ]
  },
  {
   "cell_type": "code",
   "execution_count": 12,
   "id": "093b7701",
   "metadata": {},
   "outputs": [
    {
     "ename": "IndentationError",
     "evalue": "unexpected indent (709091583.py, line 2)",
     "output_type": "error",
     "traceback": [
      "  \u001b[36mCell\u001b[39m\u001b[36m \u001b[39m\u001b[32mIn[12]\u001b[39m\u001b[32m, line 2\u001b[39m\n\u001b[31m    \u001b[39m\u001b[31m''' ANS\u001b[39m\n    ^\n\u001b[31mIndentationError\u001b[39m\u001b[31m:\u001b[39m unexpected indent\n"
     ]
    }
   ],
   "source": [
    "#10. Provide a real-life example of a Poisson process and calculate the probability for a specific event.\n",
    "    ''' ANS   \n",
    "Example:\n",
    "Let us assume a call center receives an average of 5 calls per hour. Calls come in randomly and independently. This is a classic Poisson process because:\n",
    "\n",
    "Events (calls) occur one at a time.\n",
    "\n",
    "The average rate is constant (5 calls/hour).\n",
    "\n",
    "Events are independent.\n",
    "\n",
    "Two events cannot happen at exactly the same instant.\n",
    "\n",
    "The Poisson distribution models the number of events occurring in a fixed interval of time or space, given a known average rate (λ).\n",
    "'''"
   ]
  },
  {
   "cell_type": "code",
   "execution_count": 13,
   "id": "f26b3c00",
   "metadata": {},
   "outputs": [
    {
     "data": {
      "text/plain": [
       "'ANS     \\n\\nA random variable is a numerical value that represents the outcome of a random phenomenon or experiment.\\nIt assigns a number to each outcome in a sample space and is typically denoted by a capital letter like X or Y.\\n\\nThere are two main types of random variables: discrete and continuous.\\n\\n1.  Discrete Random Variable\\nDefinition: A discrete random variable can take on a countable number of distinct values.\\n\\nExamples:\\n\\nNumber of students in a class.\\n\\nNumber of heads in 5 coin tosses.\\n\\nNumber of goals scored in a match.\\n\\nProbability Distribution: Uses a probability mass function (PMF).\\n\\nCharacteristics:\\n\\nValues are isolated (not continuous).\\n\\nProbabilities of individual outcomes can be calculated directly.\\n\\nTotal probability across all values = 1.\\n\\n\\n2. Continuous Random Variable\\nDefinition: A continuous random variable can take on any value within a given range or interval (including decimals and fractions).\\n\\nExamples:\\n\\nHeight of students.\\n\\nTime taken to run a marathon.\\n\\nTemperature during the day.\\n\\nProbability Distribution: Uses a probability density function (PDF).\\n\\nCharacteristics:\\n\\nInfinite possible values within an interval.\\n\\nProbability of a single exact value is zero (we calculate the probability over a range).\\n\\nArea under the curve of the PDF represents probability.\\n\\n\\n\\n'"
      ]
     },
     "execution_count": 13,
     "metadata": {},
     "output_type": "execute_result"
    }
   ],
   "source": [
    "#11. Explain what a random variable is and differentiate between discrete and continuous random variables\n",
    "'''ANS     \n",
    "\n",
    "A random variable is a numerical value that represents the outcome of a random phenomenon or experiment.\n",
    "It assigns a number to each outcome in a sample space and is typically denoted by a capital letter like X or Y.\n",
    "\n",
    "There are two main types of random variables: discrete and continuous.\n",
    "\n",
    "1.  Discrete Random Variable\n",
    "Definition: A discrete random variable can take on a countable number of distinct values.\n",
    "\n",
    "Examples:\n",
    "\n",
    "Number of students in a class.\n",
    "\n",
    "Number of heads in 5 coin tosses.\n",
    "\n",
    "Number of goals scored in a match.\n",
    "\n",
    "Probability Distribution: Uses a probability mass function (PMF).\n",
    "\n",
    "Characteristics:\n",
    "\n",
    "Values are isolated (not continuous).\n",
    "\n",
    "Probabilities of individual outcomes can be calculated directly.\n",
    "\n",
    "Total probability across all values = 1.\n",
    "\n",
    "\n",
    "2. Continuous Random Variable\n",
    "Definition: A continuous random variable can take on any value within a given range or interval (including decimals and fractions).\n",
    "\n",
    "Examples:\n",
    "\n",
    "Height of students.\n",
    "\n",
    "Time taken to run a marathon.\n",
    "\n",
    "Temperature during the day.\n",
    "\n",
    "Probability Distribution: Uses a probability density function (PDF).\n",
    "\n",
    "Characteristics:\n",
    "\n",
    "Infinite possible values within an interval.\n",
    "\n",
    "Probability of a single exact value is zero (we calculate the probability over a range).\n",
    "\n",
    "Area under the curve of the PDF represents probability.\n",
    "\n",
    "\n",
    "\n",
    "'''"
   ]
  },
  {
   "cell_type": "code",
   "execution_count": null,
   "id": "03ede458",
   "metadata": {},
   "outputs": [],
   "source": [
    "#12. Provide an example dataset, calculate both covariance and correlation, and interpret the results.\n",
    "'''ANS\n",
    "ANS IN drive link .........\n",
    "\n",
    "\n",
    "'''"
   ]
  }
 ],
 "metadata": {
  "kernelspec": {
   "display_name": "Python 3",
   "language": "python",
   "name": "python3"
  },
  "language_info": {
   "codemirror_mode": {
    "name": "ipython",
    "version": 3
   },
   "file_extension": ".py",
   "mimetype": "text/x-python",
   "name": "python",
   "nbconvert_exporter": "python",
   "pygments_lexer": "ipython3",
   "version": "3.13.3"
  }
 },
 "nbformat": 4,
 "nbformat_minor": 5
}
